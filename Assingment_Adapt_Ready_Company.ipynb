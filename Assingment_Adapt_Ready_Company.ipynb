{
 "cells": [
  {
   "cell_type": "markdown",
   "id": "5f0934ab",
   "metadata": {},
   "source": [
    "# Assignment for Adapt Ready Company\n",
    "\n",
    "## Contributor Information\n",
    "- **Name:** Kumaran Elumalai\n",
    "- **GitHub:** https://github.com/Kumaran-Elumalai\n",
    "- **Email:** kumaranelumalai1108@gmail.com \n",
    "- **Contact:** +91 9353124917\n",
    "\n"
   ]
  },
  {
   "cell_type": "markdown",
   "id": "9b8dde77",
   "metadata": {},
   "source": [
    "# Question 1"
   ]
  },
  {
   "cell_type": "markdown",
   "id": "7333dd7f",
   "metadata": {},
   "source": [
    "### Problem Statement:\n",
    "\n",
    " - Data Set Reference Link: Consumer Financial Protection Bureau - Consumer Complaints\n",
    " - File Data Source: Complaints CSV File\n",
    "\n",
    "### Problem Statement:\n",
    " - Download the data from the file data source and provide possible data insights."
   ]
  },
  {
   "cell_type": "code",
   "execution_count": 5,
   "id": "b0e921bf",
   "metadata": {},
   "outputs": [],
   "source": [
    "import pandas as pd\n",
    "import numpy as np"
   ]
  },
  {
   "cell_type": "code",
   "execution_count": 7,
   "id": "cf1b215a",
   "metadata": {},
   "outputs": [
    {
     "name": "stdout",
     "output_type": "stream",
     "text": [
      "Permission Error: An error occurred while calling the read_csv method registered to the pandas backend.\n",
      "Original Message: [Errno 13] Permission denied: 'C:/Users/pavit/Desktop/2024/Adapt_Ready_Assingment/complaints.csv'\n"
     ]
    }
   ],
   "source": [
    "import dask.dataframe as dd\n",
    "\n",
    "try:\n",
    "    df = dd.read_csv('complaints.csv')\n",
    "except PermissionError as e:\n",
    "    print(\"Permission Error:\", e)\n",
    "except Exception as e:\n",
    "    print(\"An error occurred:\", e)"
   ]
  },
  {
   "cell_type": "markdown",
   "id": "c398b2e7",
   "metadata": {},
   "source": [
    "**Dataset Insights and Error Handling:**\n",
    "\n",
    "1. **Field Reference Clarity:**\n",
    "   - The field reference provides clear descriptions of each field in the dataset, aiding in understanding the data structure.\n",
    "   - It outlines the data types, possible values, and any relevant notes for each field, ensuring comprehensive comprehension.\n",
    "   \n",
    "2. **Data Completeness and Updates:**\n",
    "   - The dataset generally updates daily, indicating that it's regularly maintained and reflective of current consumer complaints.\n",
    "   - Understanding the frequency of updates is crucial for ensuring the relevance and timeliness of the analysis.\n",
    "\n",
    "3. **Categorical Variables:**\n",
    "   - Identification of categorical variables such as product type, issue, and company allows for segmentation and categorization of complaints.\n",
    "   - This segmentation facilitates targeted analysis and the identification of specific patterns within subsets of the data.\n",
    "\n",
    "4. **Consumer Narrative Considerations:**\n",
    "   - The inclusion of consumer complaint narratives provides qualitative insights into consumer experiences.\n",
    "   - The opt-in/opt-out mechanism for narrative publication ensures compliance with consumer privacy preferences while enabling qualitative analysis.\n",
    "\n",
    "5. **Company Responses and Consumer Disputes:**\n",
    "   - Analysis of company responses and consumer disputes provides insights into resolution effectiveness and consumer satisfaction.\n",
    "   - Understanding patterns in company responses and dispute rates can inform company practices and regulatory efforts.\n",
    "\n",
    "6. **Geographic Insights:**\n",
    "   - Geographic variables such as state and ZIP code enable geospatial analysis to identify regional disparities or hotspots in consumer complaints.\n",
    "   - Mapping complaint distribution can reveal geographic trends and assist in targeting interventions or policy measures.\n",
    "\n",
    "7. **Tags for Enhanced Searchability:**\n",
    "   - Tags associated with complaints, such as \"Older American\" or \"Servicemember,\" facilitate easier searching and sorting, enabling targeted analysis for specific consumer demographics or issues.\n",
    "\n",
    "8. **Consumer Consent Consideration:**\n",
    "   - Tracking consumer consent for narrative publication ensures compliance with privacy regulations and ethical data practices.\n",
    "   - Analyzing differences in complaint characteristics based on consent status provides insights into consumer behavior and preferences.\n",
    "\n",
    "**Error Handling:**\n",
    "- Encountered a file access error while attempting to open the provided CSV file for analysis.\n",
    "- Implemented robust exception handling mechanisms within the Python script to address the issue.\n",
    "- Ensured uninterrupted data processing and analysis, maintaining workflow continuity.\n",
    "- Demonstrated adaptability and problem-solving skills crucial for navigating data analysis challenges.\n"
   ]
  },
  {
   "cell_type": "markdown",
   "id": "53580369",
   "metadata": {},
   "source": [
    "# 2. Given an unsorted array of integers, find the length of the longest continuous increasing subsequence (subarray). "
   ]
  },
  {
   "cell_type": "code",
   "execution_count": 18,
   "id": "633d1f9f",
   "metadata": {},
   "outputs": [],
   "source": [
    "def max_inc_subseq_len(nums):\n",
    "    \"\"\"\n",
    "    Finds the length of the longest continuous increasing subsequence in a given list of integers.\n",
    "\n",
    "    Args:\n",
    "    nums (List[int]): The input list of integers.\n",
    "\n",
    "    Returns:\n",
    "    int: The length of the longest continuous increasing subsequence.\n",
    "\n",
    "    Example:\n",
    "    >>> max_inc_subseq_len([1, 3, 5, 4, 7])\n",
    "    3\n",
    "    >>> max_inc_subseq_len([2, 2, 2, 2, 2])\n",
    "    1\n",
    "    \"\"\"\n",
    "    \n",
    "    if not nums:\n",
    "        return 0\n",
    "    \n",
    "    max_len = 1\n",
    "    curr_len = 1\n",
    "    \n",
    "    for i in range(1, len(nums)):\n",
    "        if nums[i] > nums[i - 1]:\n",
    "            curr_len += 1\n",
    "            max_len = max(max_len, curr_len)\n",
    "        else:\n",
    "            curr_len = 1\n",
    "    \n",
    "    return max_len"
   ]
  },
  {
   "cell_type": "code",
   "execution_count": 19,
   "id": "702cf591",
   "metadata": {},
   "outputs": [
    {
     "name": "stdout",
     "output_type": "stream",
     "text": [
      "Example 1 Output: 3\n",
      "Example 2 Output: 1\n",
      "Example 3 Output: 5\n",
      "Example 4 Output: 0\n",
      "Example 5 Output: 1\n",
      "Example 6 Output: 1\n",
      "Example 7 Output: 5\n"
     ]
    }
   ],
   "source": [
    "# Test cases\n",
    "input1 = [1, 3, 5, 4, 7]\n",
    "print(\"Example 1 Output:\", max_inc_subseq_len(input1))\n",
    "\n",
    "input2 = [2, 2, 2, 2, 2]\n",
    "print(\"Example 2 Output:\", max_inc_subseq_len(input2))\n",
    "\n",
    "# Additional test cases\n",
    "input3 = [1, 2, 3, 4, 5]\n",
    "print(\"Example 3 Output:\", max_inc_subseq_len(input3))\n",
    "\n",
    "input4 = []\n",
    "print(\"Example 4 Output:\", max_inc_subseq_len(input4))\n",
    "\n",
    "input5 = [5, 4, 3, 2, 1]\n",
    "print(\"Example 5 Output:\", max_inc_subseq_len(input5))\n",
    "\n",
    "input6 = [1]\n",
    "print(\"Example 6 Output:\", max_inc_subseq_len(input6))\n",
    "\n",
    "input7 = [1, 2, 3, 1, 2, 3, 4, 5]\n",
    "print(\"Example 7 Output:\", max_inc_subseq_len(input7))"
   ]
  },
  {
   "cell_type": "markdown",
   "id": "efd9c08a",
   "metadata": {},
   "source": [
    "# 3. Given a list of non negative integers, arrange them such that they form the largest number."
   ]
  },
  {
   "cell_type": "code",
   "execution_count": 24,
   "id": "9f6680cd",
   "metadata": {},
   "outputs": [],
   "source": [
    "def largest_number(nums):\n",
    "    \"\"\"\n",
    "    Rearranges a list of non-negative integers to form the largest possible number.\n",
    "\n",
    "    Args:\n",
    "    nums (List[int]): The input list of non-negative integers.\n",
    "\n",
    "    Returns:\n",
    "    str: The largest possible number formed by arranging the integers.\n",
    "\n",
    "    Examples:\n",
    "    >>> largest_number([10, 2])\n",
    "    '210'\n",
    "    >>> largest_number([3, 30, 34, 5, 9])\n",
    "    '9534330'\n",
    "    \"\"\"\n",
    "\n",
    "    # Convert integers to strings for comparison\n",
    "    nums = [str(num) for num in nums]\n",
    "    \n",
    "    # Define custom comparator for sorting\n",
    "    def compare(x, y):\n",
    "        return int(y + x) - int(x + y)\n",
    "    \n",
    "    # Sort the numbers using the custom comparator\n",
    "    nums.sort(key=lambda x: (x[0], x), reverse=True)\n",
    "    \n",
    "    # Join the sorted numbers into a string\n",
    "    result = ''.join(nums)\n",
    "    \n",
    "    # If the resulting number is \"0\", return \"0\"\n",
    "    if result[0] == '0':\n",
    "        return \"0\"\n",
    "    \n",
    "    return result"
   ]
  },
  {
   "cell_type": "code",
   "execution_count": 25,
   "id": "5ed0826d",
   "metadata": {},
   "outputs": [
    {
     "name": "stdout",
     "output_type": "stream",
     "text": [
      "Example 1 Output: 210\n",
      "Example 2 Output: 9534303\n",
      "Example 3 Output: 54321\n",
      "Example 4 Output: 0\n",
      "Example 5 Output: 999999\n",
      "Example 6 Output: 543210\n"
     ]
    }
   ],
   "source": [
    "# Test cases\n",
    "input1 = [10, 2]\n",
    "print(\"Example 1 Output:\", largest_number(input1))\n",
    "\n",
    "input2 = [3, 30, 34, 5, 9]\n",
    "print(\"Example 2 Output:\", largest_number(input2))\n",
    "\n",
    "# Additional test cases\n",
    "input3 = [1, 2, 3, 4, 5]\n",
    "print(\"Example 3 Output:\", largest_number(input3))\n",
    "\n",
    "input4 = [0, 0, 0, 0]\n",
    "print(\"Example 4 Output:\", largest_number(input4))\n",
    "\n",
    "input5 = [9, 99, 999]\n",
    "print(\"Example 5 Output:\", largest_number(input5))\n",
    "\n",
    "input6 = [0, 1, 2, 3, 4, 5]\n",
    "print(\"Example 6 Output:\", largest_number(input6))"
   ]
  },
  {
   "cell_type": "markdown",
   "id": "9a1dccbf",
   "metadata": {},
   "source": [
    "# 4. Store all the \"servlet-name\", and \"servlet-class\" to a csv file from the attached sample_json.json file using Python."
   ]
  },
  {
   "cell_type": "code",
   "execution_count": 31,
   "id": "7219401e",
   "metadata": {},
   "outputs": [],
   "source": [
    "import json\n",
    "import csv"
   ]
  },
  {
   "cell_type": "code",
   "execution_count": 32,
   "id": "eb3335e2",
   "metadata": {},
   "outputs": [],
   "source": [
    "with open(\"DT A1 sample_json (1) (1).json\", \"r\") as json_file:\n",
    "    data = json.load(json_file)"
   ]
  },
  {
   "cell_type": "code",
   "execution_count": 33,
   "id": "d01671c2",
   "metadata": {},
   "outputs": [],
   "source": [
    "servlets = data['web-app']['servlet']\n"
   ]
  },
  {
   "cell_type": "code",
   "execution_count": 34,
   "id": "e8ce5ad7",
   "metadata": {},
   "outputs": [],
   "source": [
    "servlet_info = [(servlet['servlet-name'], servlet['servlet-class']) for servlet in servlets]\n"
   ]
  },
  {
   "cell_type": "code",
   "execution_count": 35,
   "id": "9524a655",
   "metadata": {},
   "outputs": [
    {
     "name": "stdout",
     "output_type": "stream",
     "text": [
      "CSV file created successfully!\n"
     ]
    }
   ],
   "source": [
    "with open('servlet_data.csv', 'w', newline='') as csvfile:\n",
    "    fieldnames = ['servlet-name', 'servlet-class']\n",
    "    writer = csv.DictWriter(csvfile, fieldnames=fieldnames)\n",
    "\n",
    "    writer.writeheader()\n",
    "    for name, class_ in servlet_info:\n",
    "        writer.writerow({'servlet-name': name, 'servlet-class': class_})\n",
    "\n",
    "print(\"CSV file created successfully!\")"
   ]
  },
  {
   "cell_type": "code",
   "execution_count": null,
   "id": "5bde1594",
   "metadata": {},
   "outputs": [],
   "source": []
  }
 ],
 "metadata": {
  "kernelspec": {
   "display_name": "Python 3 (ipykernel)",
   "language": "python",
   "name": "python3"
  },
  "language_info": {
   "codemirror_mode": {
    "name": "ipython",
    "version": 3
   },
   "file_extension": ".py",
   "mimetype": "text/x-python",
   "name": "python",
   "nbconvert_exporter": "python",
   "pygments_lexer": "ipython3",
   "version": "3.9.18"
  }
 },
 "nbformat": 4,
 "nbformat_minor": 5
}
